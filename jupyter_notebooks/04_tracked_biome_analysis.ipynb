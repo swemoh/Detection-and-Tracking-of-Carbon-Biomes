{
 "cells": [
  {
   "cell_type": "markdown",
   "id": "69b48b35",
   "metadata": {},
   "source": [
    "# Imports"
   ]
  },
  {
   "cell_type": "code",
   "execution_count": null,
   "id": "304dec96",
   "metadata": {},
   "outputs": [],
   "source": [
    "import pandas as pd\n",
    "import numpy as np\n",
    "\n",
    "import matplotlib.pyplot as plt\n",
    "# import seaborn as sns\n",
    "import matplotlib.pyplot as plt\n",
    "import matplotlib as mpl\n",
    "mpl.rcParams.update(plt.rcParamsDefault)"
   ]
  },
  {
   "cell_type": "code",
   "execution_count": null,
   "id": "c3acecd3",
   "metadata": {},
   "outputs": [],
   "source": [
    "# For plotting maps\n",
    "import os\n",
    "os.environ[\"PROJ_LIB\"] = os.path.join(os.environ[\"CONDA_PREFIX\"], \"share\", \"proj\")\n",
    "\n",
    "# !conda install -c conda-forge basemap\n",
    "from mpl_toolkits.basemap import Basemap\n",
    "\n",
    "# # !pip install cartopy\n",
    "# import cartopy.crs as ccrs\n",
    "# import cartopy.feature as cfeature"
   ]
  },
  {
   "cell_type": "code",
   "execution_count": null,
   "id": "136170d0",
   "metadata": {},
   "outputs": [],
   "source": [
    "import warnings\n",
    "warnings.filterwarnings('ignore')"
   ]
  },
  {
   "cell_type": "code",
   "execution_count": null,
   "id": "bb0e6327",
   "metadata": {},
   "outputs": [],
   "source": [
    "import mpl_toolkits.basemap # -> install 1.3.2\n",
    "import sys\n",
    "print(mpl_toolkits.basemap.__version__)"
   ]
  },
  {
   "cell_type": "markdown",
   "id": "0e0f00a9",
   "metadata": {},
   "source": [
    "# Percentage coverage maps"
   ]
  },
  {
   "cell_type": "code",
   "execution_count": null,
   "id": "4faf9046",
   "metadata": {},
   "outputs": [],
   "source": [
    "regime_names_dict = {\n",
    "    1: 'ICE I',\n",
    "    2: 'ICE II',\n",
    "    3: 'SUBTR I',\n",
    "    4: 'SUBTR II',\n",
    "    6: 'SUBP + UP I',\n",
    "    7: 'SUBP + UP II',\n",
    "    5: 'SUBP + UP III',\n",
    "}\n",
    "len(regime_names_dict)"
   ]
  },
  {
   "cell_type": "code",
   "execution_count": null,
   "id": "8189f626",
   "metadata": {},
   "outputs": [],
   "source": [
    "import matplotlib.pyplot as plt\n",
    "import seaborn as sns\n",
    "\n",
    "# Define the cluster_color_dict\n",
    "cluster_color_dict = {\n",
    "    1: sns.color_palette(\"light:blue\", as_cmap=False, n_colors=10)[3],\n",
    "    2: 'blue',\n",
    "    3: sns.color_palette(\"autumn\", as_cmap=False, n_colors=5)[4],#'yellow',\n",
    "    4: 'orange',\n",
    "    5: 'green',\n",
    "    6: 'gray',\n",
    "    7: sns.color_palette(\"light:green\", as_cmap=False, n_colors=5)[2] # [2] is for regimes on map\n",
    "}"
   ]
  },
  {
   "cell_type": "code",
   "execution_count": null,
   "id": "4e9a84de",
   "metadata": {},
   "outputs": [],
   "source": [
    "sns.color_palette(\"light:green\", as_cmap=False, n_colors=5)"
   ]
  },
  {
   "cell_type": "code",
   "execution_count": null,
   "id": "5901e3ef",
   "metadata": {},
   "outputs": [],
   "source": [
    "from matplotlib.colors import LinearSegmentedColormap\n",
    "\n",
    "# Define the colors\n",
    "color1 = cluster_color_dict[5]  # RGB value\n",
    "color2 = (1, 1, 1)  # White color\n",
    "# Create a custom colormap\n",
    "colors = [color1, color2]\n",
    "cmap = LinearSegmentedColormap.from_list('custom_cmap', colors)\n",
    "\n",
    "# Plot a colorbar to visualize the colormap\n",
    "plt.figure(figsize=(6, 1))\n",
    "plt.imshow([list(range(100))], cmap=cmap)\n",
    "plt.colorbar(orientation='horizontal')\n",
    "plt.show()"
   ]
  },
  {
   "cell_type": "code",
   "execution_count": null,
   "id": "a8b5168b",
   "metadata": {
    "scrolled": false
   },
   "outputs": [],
   "source": [
    "%%time\n",
    "# months=['jan', 'feb', 'mar', 'apr', 'may', 'jun', 'jul', 'aug', 'sep', 'oct', 'nov', 'dec']\n",
    "months=['jul']\n",
    "track_df_list = []\n",
    "for y in range(1958, 2019):\n",
    "    for m in months:\n",
    "        data_df = pd.read_pickle(f\"output_reg_1958_2018/adaptive_hc_clusters_{y}_{m}.pkl\")\n",
    "        if 'predicted_cluster' in data_df.columns:\n",
    "                data_df = data_df.rename(columns={'predicted_cluster': 'cluster'})\n",
    "        track_df_list.append(data_df[['cluster', 'grid_id', 'nav_lat', 'nav_lon', 'time_counter']])\n",
    "print(len(track_df_list))"
   ]
  },
  {
   "cell_type": "code",
   "execution_count": null,
   "id": "0eb5ace2",
   "metadata": {},
   "outputs": [],
   "source": [
    "df_tracked_concatenated = pd.concat(track_df_list, ignore_index=True)"
   ]
  },
  {
   "cell_type": "code",
   "execution_count": null,
   "id": "8ef88a2e",
   "metadata": {},
   "outputs": [],
   "source": [
    "# Group by 'lat' and 'lon', and count the occurrences of each cluster\n",
    "df_grouped = df_tracked_concatenated.groupby(['nav_lat', 'nav_lon', 'cluster']).size()\n",
    "df_grouped"
   ]
  },
  {
   "cell_type": "code",
   "execution_count": null,
   "id": "95128bfa",
   "metadata": {},
   "outputs": [],
   "source": [
    "# Convert the resulting series into a dataframe and reset index\n",
    "df_result = df_grouped.to_frame(name='count').reset_index()\n",
    "df_result"
   ]
  },
  {
   "cell_type": "code",
   "execution_count": null,
   "id": "76f10b99",
   "metadata": {},
   "outputs": [],
   "source": [
    "df_result['count'].max()"
   ]
  },
  {
   "cell_type": "code",
   "execution_count": null,
   "id": "ebf5552d",
   "metadata": {},
   "outputs": [],
   "source": [
    "cluster_number = 2 #3,4,7,5,1,2\n",
    "\n",
    "# Filter the dataframe based on the cluster number\n",
    "df_filtered = df_result[df_result['cluster'] == str(cluster_number)]\n",
    "df_filtered['count_perc'] = (df_filtered['count']/61)*100\n",
    "df_filtered"
   ]
  },
  {
   "cell_type": "code",
   "execution_count": null,
   "id": "6d727e79",
   "metadata": {},
   "outputs": [],
   "source": [
    "df_filtered['count_perc'].max()"
   ]
  },
  {
   "cell_type": "code",
   "execution_count": null,
   "id": "a6b8a03d",
   "metadata": {},
   "outputs": [],
   "source": [
    "df_filtered['count_perc'].min()"
   ]
  },
  {
   "cell_type": "code",
   "execution_count": null,
   "id": "2767720c",
   "metadata": {},
   "outputs": [],
   "source": [
    "fig = plt.figure(figsize=(20, 16), edgecolor='w')\n",
    "world_map = Basemap(projection='cyl', resolution='c',\n",
    "            llcrnrlat=-90, urcrnrlat=90,\n",
    "            llcrnrlon=-180, urcrnrlon=180, )\n",
    "\n",
    "# m.shadedrelief()\n",
    "## Fill the land mass and lakes\n",
    "world_map.fillcontinents(color='black') #color_lake='aqua'\n",
    "\n",
    "# Define the colors\n",
    "color1 = cluster_color_dict[cluster_number]  # RGB value\n",
    "# color1 = (0.5019607843137255, 0.803921568627451, 0.19607843137254902)\n",
    "color2 = (1, 1, 1)  # White color\n",
    "# Create a custom colormap\n",
    "colors = [color2, color1]\n",
    "cmap_biomes = LinearSegmentedColormap.from_list('custom_cmap', colors)\n",
    "\n",
    "# plt.title('Subtropical I', fontsize=20)\n",
    "world_map_scatter =world_map.scatter(df_filtered['nav_lon'], df_filtered['nav_lat'],\n",
    "                                     s = 5, c = df_filtered['count_perc'],\n",
    "                                     vmin=1, vmax =100, \n",
    "#                                      cmap='Purples', \n",
    "                                     cmap=cmap_biomes, \n",
    "                                     edgecolors='none')\n",
    "\n",
    "# 3-Oranges, 4-Wistia, 5-Purples, 7 - Greens, 1,2 - Blues\n",
    "\n",
    "cbar = plt.colorbar(world_map_scatter, shrink = 0.5, pad=0.01)\n",
    "cbar.ax.tick_params(labelsize=18)\n",
    "\n",
    "cbar.set_label('Percentage coverage', fontsize=24)\n",
    "plt.show()"
   ]
  },
  {
   "cell_type": "markdown",
   "id": "cc6e3905",
   "metadata": {},
   "source": [
    "# Zone Analysis"
   ]
  },
  {
   "cell_type": "code",
   "execution_count": null,
   "id": "c04e8762",
   "metadata": {},
   "outputs": [],
   "source": [
    "import matplotlib.pyplot as plt\n",
    "import seaborn as sns\n",
    "\n",
    "# Define the cluster_color_dict\n",
    "cluster_color_dict = {\n",
    "    1: sns.color_palette(\"light:blue\", as_cmap=False, n_colors=10)[3],\n",
    "    2: 'blue',\n",
    "    3: sns.color_palette(\"autumn\", as_cmap=False, n_colors=5)[4],#'yellow',\n",
    "    4: 'orange',\n",
    "    5: 'green',\n",
    "    6: 'gray',\n",
    "    7: sns.color_palette(\"light:green\", as_cmap=False, n_colors=5)[2]\n",
    "}"
   ]
  },
  {
   "cell_type": "code",
   "execution_count": null,
   "id": "9bd35d9c",
   "metadata": {},
   "outputs": [],
   "source": [
    "regime_names_dict = {\n",
    "    1: 'ICE I',\n",
    "    2: 'ICE II',\n",
    "    3: 'SUBTR I',\n",
    "    4: 'SUBTR II',\n",
    "    5: 'SUBP + UP III', #dark green\n",
    "    6: 'SUBP + UP I',\n",
    "    7: 'SUBP + UP II',\n",
    "    \n",
    "}\n",
    "len(regime_names_dict)"
   ]
  },
  {
   "cell_type": "code",
   "execution_count": null,
   "id": "eb265418",
   "metadata": {},
   "outputs": [],
   "source": [
    "def get_zoned(appended_data):\n",
    "    \n",
    "    zone_ARCTIC = appended_data.loc[appended_data['nav_lat'] > 70.0]\n",
    "    zone_ARCTIC['zone'] = 'ARCTIC'\n",
    "        \n",
    "    zone_NORTH_ATLANTIC= appended_data.loc[(appended_data['nav_lon'] >= -75.0) & (appended_data['nav_lon'] <= 0.0)]\n",
    "    zone_NORTH_ATLANTIC = zone_NORTH_ATLANTIC.loc[(zone_NORTH_ATLANTIC['nav_lat'] >= 10) & (zone_NORTH_ATLANTIC['nav_lat'] <= 70)]\n",
    "    zone_NORTH_ATLANTIC['zone'] = 'NORTH_ATLANTIC'\n",
    "    \n",
    "    zone_EQ= appended_data.loc[(appended_data['nav_lat'] >= -10.0) & (appended_data['nav_lat'] <= 10.0)]\n",
    "    zone_EQ_PACIFIC_1 = zone_EQ.loc[(zone_EQ['nav_lon'] >= 105.0) & (zone_EQ['nav_lon'] <= 180.0)]\n",
    "    zone_EQ_PACIFIC_2 = zone_EQ.loc[(zone_EQ['nav_lon'] >= -180.0) & (zone_EQ['nav_lon'] <= -80.0)]\n",
    "    zone_EQ_PACIFIC = pd.concat([zone_EQ_PACIFIC_1, zone_EQ_PACIFIC_2])\n",
    "    zone_EQ_PACIFIC['zone'] = 'EQ_PACIFIC'\n",
    "    \n",
    "    zone_SOUTHERN_OCEAN = appended_data.loc[appended_data['nav_lat'] <= -45]\n",
    "    zone_SOUTHERN_OCEAN['zone'] = 'SOUTHERN_OCEAN'\n",
    "    \n",
    "    return zone_ARCTIC, zone_NORTH_ATLANTIC, zone_EQ_PACIFIC, zone_SOUTHERN_OCEAN"
   ]
  },
  {
   "cell_type": "code",
   "execution_count": null,
   "id": "7bb4f650",
   "metadata": {},
   "outputs": [],
   "source": [
    "def calc_seasonal_zonal_coverage(df):\n",
    "    total_area = df['area'].sum()\n",
    "    clusters_list = np.sort(df['cluster'].unique())\n",
    "    perc_cov = []\n",
    "    for c in clusters_list:\n",
    "        if c == 6:\n",
    "            continue\n",
    "        df_c = df.loc[df['cluster']==c]\n",
    "        area_c = df_c['area'].sum()\n",
    "        perc_cov.append((area_c/total_area)*100)\n",
    "    return clusters_list, perc_cov"
   ]
  },
  {
   "cell_type": "code",
   "execution_count": null,
   "id": "e0437c1c",
   "metadata": {},
   "outputs": [],
   "source": [
    "# https://matplotlib.org/stable/api/markers_api.html\n",
    "def plot_perc_cov(data, year=None, is_annual=False, month=None, is_seasonal=False):\n",
    "    # for z in zones:\n",
    "    return 0"
   ]
  },
  {
   "cell_type": "code",
   "execution_count": null,
   "id": "522481f5",
   "metadata": {},
   "outputs": [],
   "source": [
    "zones = ['ARCTIC','NORTH_ATLANTIC', 'EQ_PACIFIC', 'SOUTHERN_OCEAN']"
   ]
  },
  {
   "cell_type": "code",
   "execution_count": null,
   "id": "807b66f5",
   "metadata": {},
   "outputs": [],
   "source": [
    "months_12 = {\n",
    "            'jan':'-01-',\n",
    "            'feb':'-02-',\n",
    "            'mar':'-03-',\n",
    "            'apr':'-04-',\n",
    "            'may':'-05-',\n",
    "            'jun':'-06-',\n",
    "            'jul':'-07-',\n",
    "            'aug':'-08-',\n",
    "            'sep':'-09-',\n",
    "            'oct':'-10-',\n",
    "            'nov':'-11-',\n",
    "            'dec':'-12-',\n",
    "}"
   ]
  },
  {
   "cell_type": "code",
   "execution_count": null,
   "id": "252fc8a7",
   "metadata": {},
   "outputs": [],
   "source": [
    "for m in months:\n",
    "    for yr in range(1958,2019):\n",
    "        print(yr, m)\n",
    "        data_df = pd.read_pickle(f\"output_reg_1958_2018/adaptive_hc_clusters_{yr}_{m}.pkl\")\n",
    "        print(data_df.columns)\n",
    "        print(data_df)\n",
    "        break"
   ]
  },
  {
   "cell_type": "code",
   "execution_count": null,
   "id": "c6abf40d",
   "metadata": {},
   "outputs": [],
   "source": [
    "data_df"
   ]
  },
  {
   "cell_type": "markdown",
   "id": "1b4d65c1",
   "metadata": {},
   "source": [
    "## Seasonal Perceentage Coverage over 61 years"
   ]
  },
  {
   "cell_type": "code",
   "execution_count": null,
   "id": "61c2a11f",
   "metadata": {
    "scrolled": true
   },
   "outputs": [],
   "source": [
    "%%time\n",
    "\n",
    "# months=['jan', 'feb', 'mar', 'apr', 'may', 'jun', 'jul', 'aug', 'sep', 'oct', 'nov', 'dec']\n",
    "months=['jan']\n",
    "\n",
    "year_list = []\n",
    "month_list = []\n",
    "biome_list = []\n",
    "zone_list = []\n",
    "perc_cov_list =[]\n",
    "\n",
    "for m in months:\n",
    "    for yr in range(1958,2019):\n",
    "        print(yr, m)\n",
    "        data_df = pd.read_pickle(f\"output_reg_1958_2018/adaptive_hc_clusters_{yr}_{m}.pkl\")\n",
    "        if 'predicted_cluster' in data_df.columns:\n",
    "                data_df = data_df.rename(columns={'predicted_cluster': 'cluster'})\n",
    "        data_df['cluster'] = data_df['cluster'].astype(int)\n",
    "        zone_ARCTIC, zone_NORTH_ATLANTIC, zone_EQ_PACIFIC, zone_SOUTHERN_OCEAN = get_zoned(data_df[['nav_lat', \n",
    "                                                                                                    'nav_lon', \n",
    "                                                                                                    'cluster',\n",
    "                                                                                                    'e1t', 'e2t', \n",
    "                                                                                                    'area']])\n",
    "        \n",
    "        clusters_list, perc_cov = calc_seasonal_zonal_coverage(df = zone_ARCTIC)\n",
    "        for c,p in zip(clusters_list,perc_cov): \n",
    "            year_list.append(yr) \n",
    "            month_list.append(m)\n",
    "            biome_list.append(c)\n",
    "            zone_list.append('ARCTIC')\n",
    "            perc_cov_list.append(p) \n",
    "        \n",
    "        clusters_list, perc_cov = calc_seasonal_zonal_coverage(df = zone_NORTH_ATLANTIC)\n",
    "        for c,p in zip(clusters_list,perc_cov): \n",
    "            year_list.append(yr) \n",
    "            month_list.append(m)\n",
    "            biome_list.append(c)\n",
    "            zone_list.append('NORTH_ATLANTIC')\n",
    "            perc_cov_list.append(p)\n",
    "        \n",
    "        clusters_list, perc_cov = calc_seasonal_zonal_coverage(df = zone_EQ_PACIFIC)\n",
    "        for c,p in zip(clusters_list,perc_cov): \n",
    "            year_list.append(yr) \n",
    "            month_list.append(m)\n",
    "            biome_list.append(c)\n",
    "            zone_list.append('EQ_PACIFIC')\n",
    "            perc_cov_list.append(p)\n",
    "        \n",
    "        clusters_list, perc_cov = calc_seasonal_zonal_coverage(df = zone_SOUTHERN_OCEAN)\n",
    "        for c,p in zip(clusters_list,perc_cov): \n",
    "            year_list.append(yr) \n",
    "            month_list.append(m)\n",
    "            biome_list.append(c)\n",
    "            zone_list.append('SOUTHERN_OCEAN')\n",
    "            perc_cov_list.append(p)\n",
    "        "
   ]
  },
  {
   "cell_type": "markdown",
   "id": "a3843b7a",
   "metadata": {},
   "source": [
    "### Over 1 month but 61 years"
   ]
  },
  {
   "cell_type": "code",
   "execution_count": null,
   "id": "b3131e14",
   "metadata": {},
   "outputs": [],
   "source": [
    "df = pd.DataFrame({'month':month_list, 'year':year_list, \n",
    "                   'zone':zone_list, 'cluster': biome_list, \n",
    "                   'coverage': perc_cov_list})\n",
    "df"
   ]
  },
  {
   "cell_type": "code",
   "execution_count": null,
   "id": "e78fd445",
   "metadata": {},
   "outputs": [],
   "source": [
    "df_zone = df.loc[df['zone'] == 'SOUTHERN_OCEAN']\n",
    "# cls_list = [3,4,7] ## N Atlantic, E Pacific\n",
    "cls_list = [3,5,7] ## S Ocean\n",
    "\n",
    "averages_covs = []\n",
    "for cls in cls_list:\n",
    "    cov_list = []\n",
    "    year_list = []\n",
    "    for yr in range(1958, 2019):\n",
    "        df_zone_cov = df_zone.loc[df_zone['year']==yr]\n",
    "        df_zone_cov = df_zone_cov.loc[df_zone_cov['cluster'] == cls]\n",
    "        cov_list.append(df_zone_cov['coverage'].mean())\n",
    "        year_list.append(yr)\n",
    "    averages_covs.append([cov_list,year_list] )"
   ]
  },
  {
   "cell_type": "code",
   "execution_count": null,
   "id": "202f12f8",
   "metadata": {},
   "outputs": [],
   "source": [
    "# averages_covs[0][1]"
   ]
  },
  {
   "cell_type": "code",
   "execution_count": null,
   "id": "0da8c966",
   "metadata": {},
   "outputs": [],
   "source": [
    "# Plotting\n",
    "fig, ax = plt.subplots(figsize=(10, 6), dpi=200)\n",
    "ax.grid(zorder=0)\n",
    "\n",
    "for i, cov in enumerate(averages_covs):    \n",
    "    plt.plot(averages_covs[i][1], averages_covs[i][0], label=regime_names_dict[cls_list[i]], \n",
    "             color=cluster_color_dict[cls_list[i]], marker='.', linestyle='-', zorder=3)\n",
    "\n",
    "plt.xlabel('Years', fontsize=20)\n",
    "# plt.errorbar(months, cov[1])    \n",
    "plt.ylabel(\"% Coverage in \", fontsize=20)\n",
    "# plt.title(selected_z)\n",
    "legend_properties = {'weight':'bold', 'size':8}\n",
    "plt.legend(bbox_to_anchor=(1.18, 1.0), prop=legend_properties)\n",
    "plt.xticks(rotation=45)\n",
    "ax.tick_params(axis='x', labelsize=15)\n",
    "ax.tick_params(axis='y', labelsize=15)\n",
    "plt.tight_layout()\n",
    "plt.show()"
   ]
  },
  {
   "cell_type": "markdown",
   "id": "2625c1e0",
   "metadata": {},
   "source": [
    "### Over 12 months"
   ]
  },
  {
   "cell_type": "code",
   "execution_count": null,
   "id": "ff5b45c5",
   "metadata": {},
   "outputs": [],
   "source": [
    "# Create DataFrame\n",
    "df = pd.DataFrame({'month':month_list, 'year':year_list, \n",
    "                   'zone':zone_list, 'cluster': biome_list, \n",
    "                   'coverage': perc_cov_list})\n",
    "df"
   ]
  },
  {
   "cell_type": "markdown",
   "id": "59d38a78",
   "metadata": {},
   "source": [
    "### Select Zones below"
   ]
  },
  {
   "cell_type": "code",
   "execution_count": null,
   "id": "9e81d5ec",
   "metadata": {},
   "outputs": [],
   "source": [
    "months = ['jan', 'feb', 'mar', 'apr', 'may', 'jun', 'jul', 'aug', 'sep', 'oct', 'nov', 'dec']\n",
    "zones = ['ARCTIC','NORTH_ATLANTIC', 'EQ_PACIFIC', 'SOUTHERN_OCEAN']"
   ]
  },
  {
   "cell_type": "code",
   "execution_count": null,
   "id": "47617858",
   "metadata": {},
   "outputs": [],
   "source": [
    "selected_z = zones[1] ## Here!\n",
    "\n",
    "selected_z"
   ]
  },
  {
   "cell_type": "code",
   "execution_count": null,
   "id": "b65cea09",
   "metadata": {},
   "outputs": [],
   "source": [
    "df_zone = df.loc[df['zone'] == selected_z]\n",
    "df_zone"
   ]
  },
  {
   "cell_type": "code",
   "execution_count": null,
   "id": "0b6b94e4",
   "metadata": {},
   "outputs": [],
   "source": [
    "# cls_list = np.sort(df_zone['cluster'].unique())\n",
    "\n",
    "# cls_list = [1,2,5,7] ## ARCTIC\n",
    "cls_list = [3,4,7] ## N Atlantic, E Pacific\n",
    "# cls_list = [3,5,7] ## S Ocean\n",
    "\n",
    "averages_covs = []\n",
    "for cls in cls_list:\n",
    "    print(cls)\n",
    "    mean_list = []\n",
    "    error_list = []\n",
    "    for m in months:\n",
    "        print(m)\n",
    "        df_zone_month = df_zone.loc[df_zone['month'] == m]\n",
    "        df_zone_month = df_zone_month.loc[df_zone_month['cluster'] == cls]\n",
    "#         print(df_zone_month)\n",
    "        mean_list.append(df_zone_month['coverage'].mean())\n",
    "        error_list.append(df_zone_month['coverage'].std())\n",
    "    averages_covs.append([mean_list,error_list] )\n",
    "#     print()"
   ]
  },
  {
   "cell_type": "code",
   "execution_count": null,
   "id": "dfa5b934",
   "metadata": {},
   "outputs": [],
   "source": [
    "# averages_covs[2]\n",
    "cls_list"
   ]
  },
  {
   "cell_type": "code",
   "execution_count": null,
   "id": "e0e5bc47",
   "metadata": {},
   "outputs": [],
   "source": [
    "averages_covs[1]"
   ]
  },
  {
   "cell_type": "code",
   "execution_count": null,
   "id": "76c41469",
   "metadata": {},
   "outputs": [],
   "source": [
    "# Plotting\n",
    "fig, ax = plt.subplots(figsize=(10, 6))\n",
    "ax.grid(zorder=0)\n",
    "\n",
    "for i, cov in enumerate(averages_covs):\n",
    "#     print(i)\n",
    "    ## cov[0] has mean and cov[1] has std dev.\n",
    "    \n",
    "    plt.plot(months, cov[0], label=regime_names_dict[cls_list[i]], \n",
    "             color=cluster_color_dict[cls_list[i]], marker='.', linestyle='-', zorder=3)\n",
    "\n",
    "    # plt.plot(months, temperature, marker='o', color='blue', label='Temperature')\n",
    "    plt.fill_between(months, \n",
    "                     [t - std for t, std in zip(cov[0], cov[1])],[t + std for t, std in zip(cov[0], cov[1])], \n",
    "                     alpha=0.1, zorder=3, color=cluster_color_dict[cls_list[i]]\n",
    "                     # label=f'{cls_list[i]}-Std Dev'\n",
    "                    )\n",
    "plt.xlabel('Months', fontsize=20)\n",
    "# plt.errorbar(months, cov[1])    \n",
    "plt.ylabel(\"% Coverage in North Atlantic\", fontsize=20)\n",
    "# plt.title(selected_z)\n",
    "legend_properties = {'weight':'bold', 'size':8}\n",
    "plt.legend(bbox_to_anchor=(1.18, 1.0), prop=legend_properties)\n",
    "plt.xticks(rotation=45)\n",
    "ax.tick_params(axis='x', labelsize=15)\n",
    "ax.tick_params(axis='y', labelsize=15)\n",
    "plt.tight_layout()\n",
    "plt.show()\n",
    "\n",
    "# # Set x-axis label\n",
    "# plt.xlabel('Years', fontsize=20)\n",
    "\n",
    "# # Set y-axis label\n",
    "# plt.ylabel('% Coverage in Southern Ocean', fontsize=20)\n",
    "\n",
    "# # Add legend\n",
    "# # plt.legend(fontsize=20)\n",
    "# legend_properties = {'weight':'bold', 'size':8}\n",
    "# ax.legend(prop=legend_properties, bbox_to_anchor=(1.18, 1.0))\n",
    "\n",
    "# # Show plot\n",
    "# plt.xticks(rotation=45)\n",
    "# ax.tick_params(axis='x', labelsize=15)\n",
    "# ax.tick_params(axis='y', labelsize=15)\n",
    "# plt.tight_layout()\n",
    "# plt.show()"
   ]
  },
  {
   "cell_type": "code",
   "execution_count": null,
   "id": "7953ed12",
   "metadata": {},
   "outputs": [],
   "source": []
  },
  {
   "cell_type": "code",
   "execution_count": null,
   "id": "6bbe9bf8",
   "metadata": {},
   "outputs": [],
   "source": []
  },
  {
   "cell_type": "markdown",
   "id": "1b90d382",
   "metadata": {},
   "source": [
    "## Physical Variables Analysis"
   ]
  },
  {
   "cell_type": "code",
   "execution_count": null,
   "id": "26dbd377",
   "metadata": {},
   "outputs": [],
   "source": [
    "months = ['jan', 'feb', 'mar', 'apr', 'may', 'jun', 'jul', 'aug', 'sep', 'oct', 'nov', 'dec']"
   ]
  },
  {
   "cell_type": "code",
   "execution_count": null,
   "id": "6fc7ba33",
   "metadata": {},
   "outputs": [],
   "source": [
    "def get_year_month(df, yrmonth):\n",
    "    df['time_counter'] = df['time_counter'].astype(\"string\")\n",
    "    df = df.loc[df['time_counter'].str.contains(yrmonth, case=False)]\n",
    "    return df.reset_index()"
   ]
  },
  {
   "cell_type": "code",
   "execution_count": null,
   "id": "75c5b885",
   "metadata": {},
   "outputs": [],
   "source": [
    "def round_nav_lat(df):\n",
    "    '''\n",
    "    Round up the coordinates to 2 decimal places\n",
    "    '''\n",
    "    df['nav_lat'] = df['nav_lat'].apply(lambda x:round(x,2))\n",
    "    df['nav_lon'] = df['nav_lon'].apply(lambda x:round(x,2))\n",
    "    return df"
   ]
  },
  {
   "cell_type": "code",
   "execution_count": null,
   "id": "7fd4f01b",
   "metadata": {},
   "outputs": [],
   "source": [
    "vars = ['SST', 'SAL', 'ice_frac', 'MLD', 'ALK', 'DICP', 'fco2_pre']"
   ]
  },
  {
   "cell_type": "markdown",
   "id": "5a6c31ed",
   "metadata": {},
   "source": [
    "### Over Biomes + 12 months + 61 years"
   ]
  },
  {
   "cell_type": "code",
   "execution_count": null,
   "id": "4ec2e138",
   "metadata": {},
   "outputs": [],
   "source": [
    "# physical_vars_df = pd.read_pickle(f\"output_reg_1958_2018/ocean_data_{2009}_df.pkl\")\n",
    "physical_vars_df = pd.read_pickle(f\"output_reg_1958_2018/adaptive_hc_clusters_{1960}_{'jan'}.pkl\")\n",
    "physical_vars_df"
   ]
  },
  {
   "cell_type": "code",
   "execution_count": null,
   "id": "1ee018f6",
   "metadata": {},
   "outputs": [],
   "source": [
    "def analyse_physical_variables_in_biomes(zone_ARCTIC):\n",
    "    return"
   ]
  },
  {
   "cell_type": "code",
   "execution_count": null,
   "id": "10ea7fbe",
   "metadata": {},
   "outputs": [],
   "source": [
    "def calc_area_weighted_mean(df,phy_var):\n",
    "    weighted_avg_mean = (df[phy_var] * df['e1t'] * df['e2t']).sum() / (df['e1t'] * df['e2t']).sum()\n",
    "    return weighted_avg_mean"
   ]
  },
  {
   "cell_type": "code",
   "execution_count": null,
   "id": "0b58fafa",
   "metadata": {},
   "outputs": [],
   "source": [
    "zones_names_dict={\n",
    "    'ARCTIC':'Arctic',\n",
    "    'NORTH_ATLANTIC': 'North Atlantic',\n",
    "    'EQ_PACIFIC': 'Eq. Pacific',\n",
    "    'SOUTHERN_OCEAN': 'Southern Ocean'\n",
    "}"
   ]
  },
  {
   "cell_type": "code",
   "execution_count": null,
   "id": "aaf56524",
   "metadata": {},
   "outputs": [],
   "source": [
    "vars = ['SST', 'SAL', 'ice_frac', 'MLD', 'ALK', 'DICP', 'fco2_pre']\n",
    "phy_var_dict={\n",
    "    'SST': 'SST ($^\\circ$C)',\n",
    "    'SAL': 'Salinity',\n",
    "    'fco2_pre': u'fCO$_2$ pre-ind. (\\u03bc-atm)',\n",
    "    'MLD': 'MLD (m)'\n",
    "}"
   ]
  },
  {
   "cell_type": "code",
   "execution_count": null,
   "id": "be770641",
   "metadata": {
    "scrolled": true
   },
   "outputs": [],
   "source": [
    "%%time\n",
    "\n",
    "phy_var='somxl010'\n",
    "\n",
    "col_year=[]\n",
    "col_month=[]\n",
    "col_cluster_label=[]\n",
    "col_zone=[]\n",
    "col_phy_var_avg=[]\n",
    "col_phy_var_wtd_avg=[]\n",
    "col_phy_var_std=[]\n",
    "\n",
    "months=['jan', 'feb', 'mar', 'apr', 'may', 'jun', 'jul', 'aug', 'sep', 'oct', 'nov', 'dec']\n",
    "monthly_data_dict = {}\n",
    "\n",
    "for m in months:\n",
    "    print(m)\n",
    "    ARCTIC_details = {}\n",
    "    NORTH_ATLANTIC_details = {}\n",
    "    EQ_PACIFIC_details = {}\n",
    "    SOUTHERN_OCEAN_details = {}\n",
    "    for yr in range(1958,2019):\n",
    "        data_df = pd.read_pickle(f\"output_reg_1958_2018/adaptive_hc_clusters_{yr}_{m}.pkl\")\n",
    "        mld_df = pd.read_pickle(f\"../dataset/MLD/ORCA025_{yr}_MLD.pkl\")\n",
    "        mld_df = get_year_month(df = mld_df , yrmonth = months_12[m])\n",
    "        mld_df = round_nav_lat(mld_df)\n",
    "        data_df = data_df.merge(mld_df[['nav_lat', 'nav_lon', 'somxl010']],on=['nav_lat', 'nav_lon'])\n",
    "        \n",
    "        if 'predicted_cluster' in data_df.columns:\n",
    "                data_df = data_df.rename(columns={'predicted_cluster': 'cluster'})\n",
    "        data_df['cluster'] = data_df['cluster'].astype(int)\n",
    "        \n",
    "        zone_ARCTIC, zone_NORTH_ATLANTIC, zone_EQ_PACIFIC, zone_SOUTHERN_OCEAN = get_zoned(data_df)\n",
    "        \n",
    "        cluster_list=zone_ARCTIC['cluster'].unique()\n",
    "        for c in cluster_list:\n",
    "            col_year.append(yr)\n",
    "            col_month.append(m)\n",
    "            col_cluster_label.append(c)\n",
    "            col_zone.append(\"ARCTIC\")\n",
    "            \n",
    "            df_ = zone_ARCTIC.loc[zone_ARCTIC['cluster']==c]\n",
    "            \n",
    "            col_phy_var_avg.append(df_[phy_var].mean())\n",
    "            col_phy_var_std.append(df_[phy_var].std())\n",
    "            col_phy_var_wtd_avg.append(calc_area_weighted_mean(df=df_, phy_var=phy_var))\n",
    "            \n",
    "        \n",
    "        cluster_list=zone_NORTH_ATLANTIC['cluster'].unique()\n",
    "        for c in cluster_list:\n",
    "            col_year.append(yr)\n",
    "            col_month.append(m)\n",
    "            col_cluster_label.append(c)\n",
    "            col_zone.append(\"NORTH_ATLANTIC\")\n",
    "            \n",
    "            df_ = zone_NORTH_ATLANTIC.loc[zone_NORTH_ATLANTIC['cluster']==c]\n",
    "            \n",
    "            col_phy_var_avg.append(df_[phy_var].mean())\n",
    "            col_phy_var_std.append(df_[phy_var].std())\n",
    "            col_phy_var_wtd_avg.append(calc_area_weighted_mean(df=df_, phy_var=phy_var))\n",
    "            \n",
    "        cluster_list=zone_EQ_PACIFIC['cluster'].unique()\n",
    "        for c in cluster_list:\n",
    "            col_year.append(yr)\n",
    "            col_month.append(m)\n",
    "            col_cluster_label.append(c)\n",
    "            col_zone.append(\"EQ_PACIFIC\")\n",
    "            \n",
    "            df_ = zone_EQ_PACIFIC.loc[zone_EQ_PACIFIC['cluster']==c]\n",
    "            \n",
    "            col_phy_var_avg.append(df_[phy_var].mean())\n",
    "            col_phy_var_std.append(df_[phy_var].std())\n",
    "            col_phy_var_wtd_avg.append(calc_area_weighted_mean(df=df_, phy_var=phy_var))\n",
    "            \n",
    "        \n",
    "        cluster_list=zone_SOUTHERN_OCEAN['cluster'].unique()\n",
    "        for c in cluster_list:\n",
    "            col_year.append(yr)\n",
    "            col_month.append(m)\n",
    "            col_cluster_label.append(c)\n",
    "            col_zone.append(\"SOUTHERN_OCEAN\")\n",
    "            \n",
    "            df_ = zone_SOUTHERN_OCEAN.loc[zone_SOUTHERN_OCEAN['cluster']==c]\n",
    "            \n",
    "            col_phy_var_avg.append(df_[phy_var].mean())\n",
    "            col_phy_var_std.append(df_[phy_var].std())\n",
    "            col_phy_var_wtd_avg.append(calc_area_weighted_mean(df=df_, phy_var=phy_var))\n",
    "            \n",
    "        \n",
    "#         break\n",
    "#     break"
   ]
  },
  {
   "cell_type": "code",
   "execution_count": null,
   "id": "70adf6b7",
   "metadata": {},
   "outputs": [],
   "source": [
    "# Create DataFrame\n",
    "df = pd.DataFrame({'month':col_month, 'year':col_year, 'zone':col_zone, 'cluster': col_cluster_label, \n",
    "                   'var_average': col_phy_var_avg, \n",
    "                   'var_wtd_avg':col_phy_var_wtd_avg,\n",
    "                   'var_std_dev':col_phy_var_std})\n",
    "df"
   ]
  },
  {
   "cell_type": "code",
   "execution_count": null,
   "id": "0eda9871",
   "metadata": {},
   "outputs": [],
   "source": [
    "df.to_pickle(\"MLD_zonal_analysis.pkl\")"
   ]
  },
  {
   "cell_type": "markdown",
   "id": "00e7ce28",
   "metadata": {},
   "source": [
    "### Select zones and plot the info"
   ]
  },
  {
   "cell_type": "code",
   "execution_count": null,
   "id": "6158d20a",
   "metadata": {},
   "outputs": [],
   "source": [
    "df = pd.read_pickle(\"MLD_zonal_analysis.pkl\")\n",
    "df"
   ]
  },
  {
   "cell_type": "code",
   "execution_count": null,
   "id": "a6cc5dac",
   "metadata": {},
   "outputs": [],
   "source": [
    "# mld_df = pd.read_pickle(f\"../dataset/MLD/ORCA025_{1958}_MLD.pkl\")\n",
    "# mld_df = get_year_month(df = mld_df , yrmonth = months_12['jan'])\n",
    "# mld_df = round_nav_lat(mld_df)\n",
    "# mld_df"
   ]
  },
  {
   "cell_type": "code",
   "execution_count": null,
   "id": "98db8476",
   "metadata": {},
   "outputs": [],
   "source": [
    "mld_df['somxl010'].max()"
   ]
  },
  {
   "cell_type": "code",
   "execution_count": null,
   "id": "33467a9d",
   "metadata": {},
   "outputs": [],
   "source": [
    "zone_name='SOUTHERN_OCEAN' #'ARCTIC' 'SOUTHERN_OCEAN' 'EQ_PACIFIC'"
   ]
  },
  {
   "cell_type": "code",
   "execution_count": null,
   "id": "37beff82",
   "metadata": {},
   "outputs": [],
   "source": [
    "df_zone = df.loc[df['zone'] == zone_name]\n",
    "df_zone"
   ]
  },
  {
   "cell_type": "code",
   "execution_count": null,
   "id": "00ea6a0c",
   "metadata": {
    "scrolled": true
   },
   "outputs": [],
   "source": [
    "# cls_list = np.sort(df_zone['cluster'].unique())\n",
    "\n",
    "# cls_list = [1,2,5,7] ## ARCTIC\n",
    "# cls_list = [3,4,7] ## N Atlantic, E Pacific\n",
    "cls_list = [3,5,7] ## S Ocean\n",
    "\n",
    "averages_covs = []\n",
    "for cls in cls_list:\n",
    "    print(cls)\n",
    "    mean_list = []\n",
    "    error_list = []\n",
    "    for m in months:\n",
    "        print(m)\n",
    "        df_zone_month = df_zone.loc[df_zone['month'] == m]\n",
    "        df_zone_month = df_zone_month.loc[df_zone_month['cluster'] == cls]\n",
    "#         print(df_zone_month)\n",
    "        mean_list.append(df_zone_month['var_wtd_avg'].mean())\n",
    "        error_list.append(df_zone_month['var_wtd_avg'].std())\n",
    "    averages_covs.append([mean_list,error_list] )\n",
    "#     print()"
   ]
  },
  {
   "cell_type": "code",
   "execution_count": null,
   "id": "56dfc33e",
   "metadata": {},
   "outputs": [],
   "source": [
    "# averages_covs[3]"
   ]
  },
  {
   "cell_type": "code",
   "execution_count": null,
   "id": "e523afb1",
   "metadata": {},
   "outputs": [],
   "source": [
    "# 0.29467082 + 2.8515444"
   ]
  },
  {
   "cell_type": "code",
   "execution_count": null,
   "id": "befa233e",
   "metadata": {},
   "outputs": [],
   "source": [
    "# Plotting\n",
    "fig, ax = plt.subplots(figsize=(10, 6), dpi=200)\n",
    "ax.grid(zorder=0)\n",
    "\n",
    "for i, cov in enumerate(averages_covs):\n",
    "#     print(i)\n",
    "    ## cov[0] has mean and cov[1] has std dev.\n",
    "    \n",
    "    plt.plot(months, cov[0], label=regime_names_dict[cls_list[i]], \n",
    "             color=cluster_color_dict[cls_list[i]], marker='.', linestyle='-', zorder=3)\n",
    "\n",
    "    # plt.plot(months, temperature, marker='o', color='blue', label='Temperature')\n",
    "    plt.fill_between(months, \n",
    "                     [t - std for t, std in zip(cov[0], cov[1])],[t + std for t, std in zip(cov[0], cov[1])], \n",
    "                     alpha=0.1, zorder=3, color=cluster_color_dict[cls_list[i]]\n",
    "                     # label=f'{cls_list[i]}-Std Dev'\n",
    "                    )\n",
    "plt.xlabel('Months', fontsize=20)\n",
    "# plt.errorbar(months, cov[1])    \n",
    "plt.ylabel(\" MLD (m) in Southern Ocean\", fontsize=20)\n",
    "# plt.ylabel(f\"{phy_var_dict[phy_var]} in {zones_names_dict[zone_name]}\", fontsize=16)\n",
    "# plt.ylabel(\"SST ($^\\circ$C) in Southern Ocean\", fontsize=20)\n",
    "# plt.title(selected_z)\n",
    "legend_properties = {'weight':'bold', 'size':8}\n",
    "plt.legend(bbox_to_anchor=(1.18, 1.0), prop=legend_properties)\n",
    "plt.xticks(rotation=45)\n",
    "ax.tick_params(axis='x', labelsize=15)\n",
    "ax.tick_params(axis='y', labelsize=15)\n",
    "plt.tight_layout()\n",
    "plt.show()\n",
    "\n",
    "# # Set x-axis label\n",
    "# plt.xlabel('Years', fontsize=20)\n",
    "\n",
    "# # Set y-axis label\n",
    "# plt.ylabel('% Coverage in Southern Ocean', fontsize=20)\n",
    "\n",
    "# # Add legend\n",
    "# # plt.legend(fontsize=20)\n",
    "# legend_properties = {'weight':'bold', 'size':8}\n",
    "# ax.legend(prop=legend_properties, bbox_to_anchor=(1.18, 1.0))\n",
    "\n",
    "# # Show plot\n",
    "# plt.xticks(rotation=45)\n",
    "# ax.tick_params(axis='x', labelsize=15)\n",
    "# ax.tick_params(axis='y', labelsize=15)\n",
    "# plt.tight_layout()\n",
    "# plt.show()"
   ]
  },
  {
   "cell_type": "code",
   "execution_count": null,
   "id": "b86de157",
   "metadata": {},
   "outputs": [],
   "source": []
  },
  {
   "cell_type": "code",
   "execution_count": null,
   "id": "33ff277e",
   "metadata": {},
   "outputs": [],
   "source": []
  },
  {
   "cell_type": "markdown",
   "id": "b60fabea",
   "metadata": {},
   "source": [
    "### Over clusters"
   ]
  },
  {
   "cell_type": "code",
   "execution_count": null,
   "id": "a09bb687",
   "metadata": {},
   "outputs": [],
   "source": [
    "merged_df_list = []\n",
    "\n",
    "for m in months:\n",
    "    print(m)\n",
    "    df_month = get_year_month(df = physical_vars_df , yrmonth = months_12[m])\n",
    "    d = df_month[['MLD', 'nav_lat', 'nav_lon']]\n",
    "    df_cluster = pd.read_pickle(f\"output_tracking/adaptive_hc_clusters_{2009}_{m}.pkl\")\n",
    "    if 'predicted_cluster' in df_cluster.columns:\n",
    "            df_cluster = df_cluster.rename(columns={'predicted_cluster': 'cluster'})\n",
    "    df_cluster['cluster'] = df_cluster['cluster'].astype(int)\n",
    "    merged_df = pd.merge(df_cluster,d, on = ['nav_lat', 'nav_lon'], how = 'left')\n",
    "    merged_df['month'] = m\n",
    "    merged_df_list.append(merged_df)\n",
    "\n",
    "vars_df = pd.concat(merged_df_list)\n",
    "vars_df"
   ]
  },
  {
   "cell_type": "code",
   "execution_count": null,
   "id": "2d45e242",
   "metadata": {},
   "outputs": [],
   "source": [
    "vars_df['cluster'].unique()"
   ]
  },
  {
   "cell_type": "code",
   "execution_count": null,
   "id": "ee1590c6",
   "metadata": {
    "scrolled": true
   },
   "outputs": [],
   "source": [
    "# SST_lst = [] \n",
    "# SAL_lst = [] \n",
    "# ice_frac_lst = [] \n",
    "# MLD_lst = []\n",
    "# ALK_lst = [] \n",
    "# DICP_lst = []\n",
    "# fco2_pre_lst = []\n",
    "cluster_lst = np.sort(vars_df['cluster'].unique())\n",
    "physical_var_lst_all = []\n",
    "var_name = 'ICE' ##change here\n",
    "\n",
    "for c in cluster_lst:\n",
    "    print(c)\n",
    "    physical_var_lst = []\n",
    "    _df_m = vars_df.loc[vars_df['cluster'] == c]\n",
    "    for m in months:\n",
    "        print(m)\n",
    "        _df_ = _df_m.loc[_df_m['month'] == m]\n",
    "        print(_df_[var_name].mean())\n",
    "        physical_var_lst.append(_df_[var_name].mean())\n",
    "        print()\n",
    "    break\n",
    "    physical_var_lst_all.append(physical_var_lst)"
   ]
  },
  {
   "cell_type": "code",
   "execution_count": null,
   "id": "52ac1e76",
   "metadata": {},
   "outputs": [],
   "source": [
    "len(physical_var_lst_all)"
   ]
  },
  {
   "cell_type": "code",
   "execution_count": null,
   "id": "664ba62b",
   "metadata": {},
   "outputs": [],
   "source": [
    "plt.figure(figsize=(10, 6))\n",
    "for i, physical_var_lst in enumerate(physical_var_lst_all):\n",
    "    # if i == 6:\n",
    "    #     continue\n",
    "    plt.plot(months, physical_var_lst, label=cluster_lst[i], marker='o')\n",
    "    plt.xlabel(\"Months\")\n",
    "    plt.ylabel(var_name)\n",
    "\n",
    "plt.legend(bbox_to_anchor=(1.1, 0.8))\n",
    "plt.xticks(rotation=45)\n",
    "plt.tight_layout()\n",
    "plt.show()"
   ]
  },
  {
   "cell_type": "code",
   "execution_count": null,
   "id": "5974b514",
   "metadata": {},
   "outputs": [],
   "source": [
    "## Hi Miri, I will be staying home as I have monster cramps today.\n",
    "## I will join from the Zoom link today and ask the questions."
   ]
  },
  {
   "cell_type": "markdown",
   "id": "ee88f626",
   "metadata": {},
   "source": [
    "#### Over zones"
   ]
  },
  {
   "cell_type": "code",
   "execution_count": null,
   "id": "3941be79",
   "metadata": {
    "scrolled": true
   },
   "outputs": [],
   "source": [
    "MLD_zone_NORTH_ATLANTIC = []\n",
    "MLD_zone_EQ_PACIFIC = []\n",
    "MLD_zone_SOUTHERN_OCEAN = []\n",
    "\n",
    "for m in months:\n",
    "    df_month = get_year_month(df = physical_vars_df , yrmonth = months_12[m])\n",
    "    zone_NORTH_ATLANTIC, zone_EQ_PACIFIC, zone_SOUTHERN_OCEAN = get_zoned(appended_data=df_month)\n",
    "    MLD_zone_NORTH_ATLANTIC.append(zone_NORTH_ATLANTIC['ALK'].mean())\n",
    "    MLD_zone_EQ_PACIFIC.append(zone_EQ_PACIFIC['ALK'].mean())\n",
    "    MLD_zone_SOUTHERN_OCEAN.append(zone_SOUTHERN_OCEAN['ALK'].mean())"
   ]
  },
  {
   "cell_type": "code",
   "execution_count": null,
   "id": "344adf27",
   "metadata": {
    "scrolled": true
   },
   "outputs": [],
   "source": [
    "MLD_zone_NORTH_ATLANTIC = []\n",
    "MLD_zone_EQ_PACIFIC = []\n",
    "MLD_zone_SOUTHERN_OCEAN = []\n",
    "\n",
    "for m in months:\n",
    "    df_month = pd.read_pickle(f\"output_reg_1958_2018/adaptive_hc_clusters_{2009}_{m}.pkl\")\n",
    "    zone_NORTH_ATLANTIC, zone_EQ_PACIFIC, zone_SOUTHERN_OCEAN = get_zoned(appended_data=df_month)\n",
    "    MLD_zone_NORTH_ATLANTIC.append(zone_NORTH_ATLANTIC['fco2_pre'].mean())\n",
    "    MLD_zone_EQ_PACIFIC.append(zone_EQ_PACIFIC['fco2_pre'].mean())\n",
    "    MLD_zone_SOUTHERN_OCEAN.append(zone_SOUTHERN_OCEAN['fco2_pre'].mean())"
   ]
  },
  {
   "cell_type": "code",
   "execution_count": null,
   "id": "e61c57f9",
   "metadata": {},
   "outputs": [],
   "source": [
    "# Create subplots with 1 row and 3 columns\n",
    "fig, axs = plt.subplots(1, 3, figsize=(15, 5))\n",
    "\n",
    "axs[0].plot(months, MLD_zone_NORTH_ATLANTIC)\n",
    "axs[0].set_title(\"zone_NORTH_ATLANTIC\")\n",
    "axs[0].set_xlabel('Months')\n",
    "axs[0].set_ylabel('fco2_pre Averaged over months')\n",
    "\n",
    "axs[1].plot(months, MLD_zone_EQ_PACIFIC)\n",
    "axs[1].set_title(\"zone_EQ_PACIFIC\")\n",
    "axs[1].set_xlabel('Months')\n",
    "axs[1].set_ylabel('fco2_pre Averaged over months')\n",
    "\n",
    "axs[2].plot(months, MLD_zone_SOUTHERN_OCEAN)\n",
    "axs[2].set_title(\"zone_SOUTHERN_OCEAN\")\n",
    "axs[2].set_xlabel('Months')\n",
    "axs[2].set_ylabel('fco2_pre Averaged over months')\n",
    "\n",
    "# axs[0].legend()\n",
    "\n",
    "# Adjust layout\n",
    "plt.tight_layout()\n",
    "\n",
    "# Show plot\n",
    "plt.show()"
   ]
  },
  {
   "cell_type": "code",
   "execution_count": null,
   "id": "fe630357",
   "metadata": {},
   "outputs": [],
   "source": []
  },
  {
   "cell_type": "markdown",
   "id": "3b76939b",
   "metadata": {},
   "source": [
    "## Percentage Coverage"
   ]
  },
  {
   "cell_type": "code",
   "execution_count": null,
   "id": "031040f3",
   "metadata": {},
   "outputs": [],
   "source": [
    "# year_1 = 2009\n",
    "# month_1 = 'jan'\n",
    "# df_1 = pd.read_pickle(f\"output_tracking/adaptive_hc_clusters_{year_1}_{month_1}.pkl\")\n",
    "# df_1.columns"
   ]
  },
  {
   "cell_type": "code",
   "execution_count": null,
   "id": "4f236256",
   "metadata": {},
   "outputs": [],
   "source": [
    "months = ['jan', 'feb', 'mar', 'apr', 'may', 'jun', 'jul', 'aug', 'sep', 'oct', 'nov', 'dec']\n",
    "zones = ['NORTH_ATLANTIC', 'EQ_PACIFIC', 'SOUTHERN_OCEAN']"
   ]
  },
  {
   "cell_type": "code",
   "execution_count": null,
   "id": "36c2a8b4",
   "metadata": {
    "scrolled": true
   },
   "outputs": [],
   "source": [
    "NORTH_ATLANTIC_details = {}\n",
    "EQ_PACIFIC_details = {}\n",
    "SOUTHERN_OCEAN_details = {}\n",
    "for m in months:\n",
    "    print(m)\n",
    "    data_df = pd.read_pickle(f\"output_tracking/adaptive_hc_clusters_{2009}_{m}.pkl\")\n",
    "    if 'predicted_cluster' in data_df.columns:\n",
    "            data_df = data_df.rename(columns={'predicted_cluster': 'cluster'})\n",
    "    # print(data_df.columns)\n",
    "    data_df['cluster'] = data_df['cluster'].astype(int)\n",
    "    zone_NORTH_ATLANTIC, zone_EQ_PACIFIC, zone_SOUTHERN_OCEAN = get_zoned(\n",
    "        data_df[['nav_lat', 'nav_lon', 'cluster','e1t', 'e2t', 'area']])\n",
    "    NORTH_ATLANTIC_details[m] = calc_seasonal_zonal_coverage(df = zone_NORTH_ATLANTIC)\n",
    "    EQ_PACIFIC_details[m] = calc_seasonal_zonal_coverage(df = zone_EQ_PACIFIC)\n",
    "    SOUTHERN_OCEAN_details[m] = calc_seasonal_zonal_coverage(df = zone_SOUTHERN_OCEAN)\n",
    "    # if sum(zone_area_details[m].values()) !=100.0:\n",
    "    #     print(sum(zone_area_details[m].values()))\n",
    "    #     raise Exception"
   ]
  },
  {
   "cell_type": "code",
   "execution_count": null,
   "id": "b6371428",
   "metadata": {},
   "outputs": [],
   "source": [
    "# SOUTHERN_OCEAN_details"
   ]
  },
  {
   "cell_type": "code",
   "execution_count": null,
   "id": "ca3a6992",
   "metadata": {},
   "outputs": [],
   "source": [
    "data = EQ_PACIFIC_details\n",
    "\n",
    "# Marker types for each integer\n",
    "marker_types = {1: 'o', 2: 's', 3: '<', 4: '>', 5: 'P', 6: 'X', 7: 'D'} #d, v\n",
    "\n",
    "# Plotting\n",
    "plt.figure(figsize=(10, 6))\n",
    "\n",
    "for num in [1, 2, 3, 4, 5, 6, 7]:\n",
    "    plt.plot(list(data.keys()), [month_data.get(num, None) for month_data in data.values()], \n",
    "             label=f'Province {num}', marker=marker_types[num], \n",
    "             linestyle='-', color='black', linewidth=0.7)\n",
    "\n",
    "# Set x-axis label\n",
    "plt.xlabel('Months')\n",
    "\n",
    "# Set y-axis label\n",
    "plt.ylabel('% Coverage in Southern Ocean')\n",
    "\n",
    "# Add legend\n",
    "plt.legend()\n",
    "\n",
    "# Show plot\n",
    "plt.xticks(rotation=45)\n",
    "plt.tight_layout()\n",
    "plt.show()"
   ]
  },
  {
   "cell_type": "code",
   "execution_count": null,
   "id": "81b0f6d4",
   "metadata": {},
   "outputs": [],
   "source": [
    "sum(zone_area_details['jan'].values)"
   ]
  },
  {
   "cell_type": "code",
   "execution_count": null,
   "id": "719eef79",
   "metadata": {},
   "outputs": [],
   "source": [
    "zone_area_details[''] "
   ]
  },
  {
   "cell_type": "code",
   "execution_count": null,
   "id": "98307171",
   "metadata": {},
   "outputs": [],
   "source": []
  }
 ],
 "metadata": {
  "kernelspec": {
   "display_name": "dend-proj",
   "language": "python",
   "name": "dend_proj"
  },
  "language_info": {
   "codemirror_mode": {
    "name": "ipython",
    "version": 3
   },
   "file_extension": ".py",
   "mimetype": "text/x-python",
   "name": "python",
   "nbconvert_exporter": "python",
   "pygments_lexer": "ipython3",
   "version": "3.8.13"
  },
  "toc": {
   "base_numbering": 1,
   "nav_menu": {},
   "number_sections": true,
   "sideBar": true,
   "skip_h1_title": false,
   "title_cell": "Table of Contents",
   "title_sidebar": "Contents",
   "toc_cell": false,
   "toc_position": {
    "height": "calc(100% - 180px)",
    "left": "10px",
    "top": "150px",
    "width": "231px"
   },
   "toc_section_display": true,
   "toc_window_display": true
  }
 },
 "nbformat": 4,
 "nbformat_minor": 5
}
